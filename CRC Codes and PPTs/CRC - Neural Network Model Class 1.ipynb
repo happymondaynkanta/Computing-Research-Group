{
 "cells": [
  {
   "cell_type": "markdown",
   "metadata": {},
   "source": [
    "# Coding Class 1: Artificial neural network"
   ]
  },
  {
   "cell_type": "markdown",
   "metadata": {},
   "source": [
    "## This block imports necessary libraries and modules:"
   ]
  },
  {
   "cell_type": "code",
   "execution_count": 1,
   "metadata": {},
   "outputs": [],
   "source": [
    "import numpy as np\n",
    "from sklearn.model_selection import train_test_split\n",
    "from sklearn.datasets import load_iris\n",
    "from keras.models import Sequential \n",
    "from keras.layers import Dense\n",
    "import matplotlib.pyplot as plt\n",
    "#from sklearn.metrics import confusion_matrix, roc_curve, auc, precision_recall_curve\n",
    "#from sklearn.metrics import classification_report\n",
    "\n"
   ]
  },
  {
   "cell_type": "markdown",
   "metadata": {},
   "source": [
    "#### numpy for numerical operations, train_test_split from sklearn.model_selection for dataset splitting, load_iris from sklearn.datasets to load the Iris dataset, Sequential from keras.models to create a sequential model, Dense from keras.layers to create fully connected layers, and matplotlib.pyplot for plotting."
   ]
  },
  {
   "cell_type": "markdown",
   "metadata": {},
   "source": [
    "## This block loads the Iris dataset"
   ]
  },
  {
   "cell_type": "code",
   "execution_count": 2,
   "metadata": {},
   "outputs": [],
   "source": [
    "# Load the Iris dataset\n",
    "data = load_iris()\n",
    "X = data.data\n",
    "y = data.target"
   ]
  },
  {
   "cell_type": "markdown",
   "metadata": {},
   "source": [
    "#### The Iris dataset using the load_iris function from sklearn.datasets. It assigns the input features to X and the corresponding labels to y."
   ]
  },
  {
   "cell_type": "markdown",
   "metadata": {},
   "source": [
    "## This block performs dataset split"
   ]
  },
  {
   "cell_type": "markdown",
   "metadata": {},
   "source": [
    "#### In this line, the train_test_split function is called again, but this time on X_temp and y_temp, which are the data and labels that remained after the first split. This second split further divides the remaining data into two parts: X_val and X_test for the input data, and y_val and y_test for the labels. The test_size=0.5 parameter indicates that 50% of the remaining data will be allocated for testing, and the other 50% will be used for validation.\n",
    "\n",
    "#### To summarize, the initial dataset is split into three parts: 70% for training, 15% for validation, and 15% for testing. This is a common approach in machine learning to evaluate the model's performance on unseen data during the testing phase and tune the model's hyperparameters using the validation set."
   ]
  },
  {
   "cell_type": "code",
   "execution_count": 3,
   "metadata": {},
   "outputs": [],
   "source": [
    "# Split the dataset into training, validation, and testing sets\n",
    "X_train, X_temp, y_train, y_temp = train_test_split(X, y, test_size=0.3, random_state=42)\n",
    "X_val, X_test, y_val, y_test = train_test_split(X_temp, y_temp, test_size=0.5, random_state=42)"
   ]
  },
  {
   "cell_type": "code",
   "execution_count": null,
   "metadata": {},
   "outputs": [],
   "source": [
    "print(\"Number of data points:\")\n",
    "print(\"X_train:\", X_train.shape[0])\n",
    "print(\"X_temp:\", X_temp.shape[0])\n",
    "print(\"X_val:\", X_val.shape[0])\n",
    "print(\"X_test:\", X_test.shape[0])\n",
    "\n",
    "Using  the shape attribute shape[0]\n"
   ]
  },
  {
   "cell_type": "markdown",
   "metadata": {},
   "source": [
    "## This block creates the neural network model."
   ]
  },
  {
   "cell_type": "code",
   "execution_count": 4,
   "metadata": {},
   "outputs": [],
   "source": [
    "model = Sequential()\n",
    "model.add(Dense(units=10, activation='relu', input_dim=X_train.shape[1]))  # Hidden layer with 10 units\n",
    "model.add(Dense(units=3, activation='softmax'))  # Output layer with 3 units (multiclass classification)\n"
   ]
  },
  {
   "cell_type": "markdown",
   "metadata": {},
   "source": [
    "#### The neural network model is created using Sequential from keras.models. The model is initialized with no layers (Sequential()). The add method is then used to add layers to the model. The first added layer is a dense (fully connected) layer with 10 units and ReLU activation function. The input_dim is set to the number of features in the input data. The second added layer is the output layer with 3 units (corresponding to the three Iris species) and softmax activation for multiclass classification."
   ]
  },
  {
   "cell_type": "markdown",
   "metadata": {},
   "source": [
    "## This block compiles the model"
   ]
  },
  {
   "cell_type": "code",
   "execution_count": 5,
   "metadata": {},
   "outputs": [],
   "source": [
    "model.compile(loss='sparse_categorical_crossentropy', optimizer='adam', metrics=['accuracy'])\n"
   ]
  },
  {
   "cell_type": "markdown",
   "metadata": {},
   "source": [
    "#### This line compiles the model by specifying the loss function (sparse_categorical_crossentropy), optimizer (adam), and evaluation metric (accuracy). The loss function is suitable for multiclass classification tasks."
   ]
  },
  {
   "cell_type": "markdown",
   "metadata": {},
   "source": [
    "## This block trains the model"
   ]
  },
  {
   "cell_type": "code",
   "execution_count": 6,
   "metadata": {},
   "outputs": [
    {
     "name": "stdout",
     "output_type": "stream",
     "text": [
      "Epoch 1/10\n",
      "4/4 [==============================] - 0s 44ms/step - loss: 3.0894 - accuracy: 0.2952 - val_loss: 2.0510 - val_accuracy: 0.5909\n",
      "Epoch 2/10\n",
      "4/4 [==============================] - 0s 12ms/step - loss: 2.9166 - accuracy: 0.2952 - val_loss: 1.9569 - val_accuracy: 0.5909\n",
      "Epoch 3/10\n",
      "4/4 [==============================] - 0s 9ms/step - loss: 2.7532 - accuracy: 0.2952 - val_loss: 1.8685 - val_accuracy: 0.5909\n",
      "Epoch 4/10\n",
      "4/4 [==============================] - 0s 9ms/step - loss: 2.6012 - accuracy: 0.2952 - val_loss: 1.7877 - val_accuracy: 0.5909\n",
      "Epoch 5/10\n",
      "4/4 [==============================] - 0s 7ms/step - loss: 2.4452 - accuracy: 0.2952 - val_loss: 1.7131 - val_accuracy: 0.5909\n",
      "Epoch 6/10\n",
      "4/4 [==============================] - 0s 8ms/step - loss: 2.3132 - accuracy: 0.2952 - val_loss: 1.6431 - val_accuracy: 0.5909\n",
      "Epoch 7/10\n",
      "4/4 [==============================] - 0s 9ms/step - loss: 2.1815 - accuracy: 0.2952 - val_loss: 1.5793 - val_accuracy: 0.5909\n",
      "Epoch 8/10\n",
      "4/4 [==============================] - 0s 9ms/step - loss: 2.0600 - accuracy: 0.2952 - val_loss: 1.5201 - val_accuracy: 0.5909\n",
      "Epoch 9/10\n",
      "4/4 [==============================] - 0s 8ms/step - loss: 1.9585 - accuracy: 0.2952 - val_loss: 1.4667 - val_accuracy: 0.5909\n",
      "Epoch 10/10\n",
      "4/4 [==============================] - 0s 8ms/step - loss: 1.8533 - accuracy: 0.2952 - val_loss: 1.4197 - val_accuracy: 0.5909\n"
     ]
    }
   ],
   "source": [
    "\n",
    "# Train the model\n",
    "history = model.fit(X_train, y_train, validation_data=(X_val, y_val), epochs=10, batch_size=32, verbose=1)"
   ]
  },
  {
   "cell_type": "markdown",
   "metadata": {},
   "source": [
    "#### This line trains the model using the fit method. It specifies the training data (X_train and y_train), the number of epochs (10), batch size (32), and verbose=1 to display the progress during training. The training history is stored in the history variable."
   ]
  },
  {
   "cell_type": "markdown",
   "metadata": {},
   "source": [
    "## This block plots the training and testing accuracy graphs"
   ]
  },
  {
   "cell_type": "code",
   "execution_count": 7,
   "metadata": {},
   "outputs": [
    {
     "data": {
      "image/png": "[encoded data removed]",
      "text/plain": [
       "<Figure size 720x360 with 1 Axes>"
      ]
     },
     "metadata": {
      "needs_background": "light"
     },
     "output_type": "display_data"
    }
   ],
   "source": [
    "# Plot training and validation accuracy\n",
    "plt.figure(figsize=(10, 5))\n",
    "plt.plot(history.history['accuracy'])\n",
    "plt.plot(history.history['val_accuracy'])\n",
    "plt.title('Model Accuracy')\n",
    "plt.xlabel('Epoch')\n",
    "plt.ylabel('Accuracy')\n",
    "plt.legend(['Training', 'Validation'], loc='lower right')\n",
    "plt.show()\n",
    "\n"
   ]
  },
  {
   "cell_type": "markdown",
   "metadata": {},
   "source": [
    "#### This explains the plots of the training and testing accuracy over epochs using matplotlib.pyplot. It creates a figure with a specified size, plots the training accuracy from history.history['accuracy'], plots the testing accuracy from history.history['val_accuracy'], adds a title and labels to the plot, adds a legend, and displays the plot."
   ]
  },
  {
   "cell_type": "markdown",
   "metadata": {},
   "source": [
    "## This block plots the training and testing loss graphs"
   ]
  },
  {
   "cell_type": "code",
   "execution_count": 8,
   "metadata": {},
   "outputs": [
    {
     "data": {
      "image/png": "[encoded data removed]",
      "text/plain": [
       "<Figure size 720x360 with 1 Axes>"
      ]
     },
     "metadata": {
      "needs_background": "light"
     },
     "output_type": "display_data"
    }
   ],
   "source": [
    "# Plot training and validation loss\n",
    "plt.figure(figsize=(10, 5))\n",
    "plt.plot(history.history['loss'])\n",
    "plt.plot(history.history['val_loss'])\n",
    "plt.title('Model Loss')\n",
    "plt.xlabel('Epoch')\n",
    "plt.ylabel('Loss')\n",
    "plt.legend(['Training', 'Validation'], loc='upper right')\n",
    "plt.show()"
   ]
  },
  {
   "cell_type": "markdown",
   "metadata": {},
   "source": [
    "#### This explains the plots of the training and testing loss over epochs using matplotlib.pyplot. It creates a figure with a specified size, plots the training loss from history.history['loss'], plots the testing loss from history.history['val_loss'], adds a title and labels to the plot, adds a legend, and displays the plot."
   ]
  },
  {
   "cell_type": "markdown",
   "metadata": {},
   "source": [
    "## This block evaluate the trained model"
   ]
  },
  {
   "cell_type": "code",
   "execution_count": 9,
   "metadata": {},
   "outputs": [
    {
     "name": "stdout",
     "output_type": "stream",
     "text": [
      "1/1 [==============================] - 0s 997us/step - loss: 1.6622 - accuracy: 0.2609\n",
      "Test Loss: 1.662177562713623\n",
      "Test Accuracy: 0.260869562625885\n"
     ]
    }
   ],
   "source": [
    "# Evaluate the model on the testing set\n",
    "loss, accuracy = model.evaluate(X_test, y_test)\n",
    "print(\"Test Loss:\", loss)\n",
    "print(\"Test Accuracy:\", accuracy)"
   ]
  },
  {
   "cell_type": "markdown",
   "metadata": {},
   "source": [
    "#### These lines evaluate the trained model on the testing set using the evaluate method. It computes and stores the test loss and accuracy in the loss and accuracy variables, respectively. The values are then printed."
   ]
  },
  {
   "cell_type": "code",
   "execution_count": 10,
   "metadata": {},
   "outputs": [],
   "source": [
    "# Evaluate the model on the testing set\n",
    "y_pred = model.predict(X_test)\n",
    "y_pred_labels = np.argmax(y_pred, axis=1)"
   ]
  },
  {
   "cell_type": "markdown",
   "metadata": {},
   "source": [
    "## This block computes the confusion matrix"
   ]
  },
  {
   "cell_type": "code",
   "execution_count": 11,
   "metadata": {},
   "outputs": [
    {
     "name": "stdout",
     "output_type": "stream",
     "text": [
      "Confusion Matrix:\n",
      "[[ 6  0  0]\n",
      " [10  0  0]\n",
      " [ 7  0  0]]\n",
      "Classification Report:\n",
      "              precision    recall  f1-score   support\n",
      "\n",
      "           0       0.26      1.00      0.41         6\n",
      "           1       0.00      0.00      0.00        10\n",
      "           2       0.00      0.00      0.00         7\n",
      "\n",
      "    accuracy                           0.26        23\n",
      "   macro avg       0.09      0.33      0.14        23\n",
      "weighted avg       0.07      0.26      0.11        23\n",
      "\n"
     ]
    },
    {
     "name": "stderr",
     "output_type": "stream",
     "text": [
      "C:\\Users\\ugoch\\AppData\\Local\\Programs\\Python\\Python37\\lib\\site-packages\\sklearn\\metrics\\_classification.py:1221: UndefinedMetricWarning: Precision and F-score are ill-defined and being set to 0.0 in labels with no predicted samples. Use `zero_division` parameter to control this behavior.\n",
      "  _warn_prf(average, modifier, msg_start, len(result))\n"
     ]
    }
   ],
   "source": [
    "# Compute the confusion matrix\n",
    "confusion = confusion_matrix(y_test, y_pred_labels)\n",
    "classification_report = classification_report(y_test, y_pred_labels)\n",
    "\n",
    "# Print evaluation metrics\n",
    "print(\"Confusion Matrix:\")\n",
    "print(confusion)\n",
    "print(\"Classification Report:\")\n",
    "print(classification_report)"
   ]
  },
  {
   "cell_type": "code",
   "execution_count": 12,
   "metadata": {},
   "outputs": [
    {
     "data": {
      "image/png": "[encoded data removed]",
      "text/plain": [
       "<Figure size 720x360 with 1 Axes>"
      ]
     },
     "metadata": {
      "needs_background": "light"
     },
     "output_type": "display_data"
    }
   ],
   "source": [
    "# Compute ROC curve and AUC for each class\n",
    "fpr = dict()\n",
    "tpr = dict()\n",
    "roc_auc = dict()\n",
    "for i in range(len(data.target_names)):\n",
    "    y_test_binary = np.where(y_test == i, 1, 0)\n",
    "    y_pred_binary = y_pred[:, i]\n",
    "    fpr[i], tpr[i], _ = roc_curve(y_test_binary, y_pred_binary)\n",
    "    roc_auc[i] = auc(fpr[i], tpr[i])\n",
    "\n",
    "# Plot ROC curve for each class\n",
    "plt.figure(figsize=(10, 5))\n",
    "for i in range(len(data.target_names)):\n",
    "    plt.plot(fpr[i], tpr[i], label='ROC curve for class %s (area = %0.2f)' % (data.target_names[i], roc_auc[i]))\n",
    "plt.plot([0, 1], [0, 1], 'k--')\n",
    "plt.xlim([0, 1])\n",
    "plt.ylim([0, 1.05])\n",
    "plt.xlabel('False Positive Rate')\n",
    "plt.ylabel('True Positive Rate')\n",
    "plt.title('Receiver Operating Characteristic (ROC)')\n",
    "plt.legend(loc='lower right')\n",
    "plt.show()"
   ]
  },
  {
   "cell_type": "code",
   "execution_count": 13,
   "metadata": {},
   "outputs": [
    {
     "data": {
      "image/png": "[encoded data removed]",
      "text/plain": [
       "<Figure size 720x360 with 1 Axes>"
      ]
     },
     "metadata": {
      "needs_background": "light"
     },
     "output_type": "display_data"
    }
   ],
   "source": [
    "# Compute precision-recall curve and average precision for each class\n",
    "precision = dict()\n",
    "recall = dict()\n",
    "average_precision = dict()\n",
    "for i in range(len(data.target_names)):\n",
    "    y_test_binary = np.where(y_test == i, 1, 0)\n",
    "    y_pred_binary = y_pred[:, i]\n",
    "    precision[i], recall[i], _ = precision_recall_curve(y_test_binary, y_pred_binary)\n",
    "    average_precision[i] = auc(recall[i], precision[i])\n",
    "\n",
    "# Plot precision-recall curve for each class\n",
    "plt.figure(figsize=(10, 5))\n",
    "for i in range(len(data.target_names)):\n",
    "    plt.plot(recall[i], precision[i], label='Precision-Recall curve for class %s (AP = %0.2f)' % (data.target_names[i], average_precision[i]))\n",
    "plt.xlim([0, 1])\n",
    "plt.ylim([0, 1.05])\n",
    "plt.xlabel('Recall')\n",
    "plt.ylabel('Precision')\n",
    "plt.title('Precision-Recall Curve')\n",
    "plt.legend(loc='lower right')\n",
    "plt.show()"
   ]
  },
  {
   "cell_type": "code",
   "execution_count": 18,
   "metadata": {
    "scrolled": true
   },
   "outputs": [
    {
     "name": "stdout",
     "output_type": "stream",
     "text": [
      "Class setosa\n",
      "Sensitivity: 1.0\n",
      "Specificity: 0.0\n",
      "\n",
      "Class versicolor\n",
      "Sensitivity: 0.0\n",
      "Specificity: 1.0\n",
      "\n",
      "Class virginica\n",
      "Sensitivity: 0.0\n",
      "Specificity: 1.0\n",
      "\n"
     ]
    }
   ],
   "source": [
    "# Compute confusion matrix, sensitivity, and specificity for each class\n",
    "sensitivity = dict()\n",
    "specificity = dict()\n",
    "for i in range(len(data.target_names)):\n",
    "    y_test_binary = np.where(y_test == i, 1, 0)\n",
    "    y_pred_binary = np.where(y_pred_labels == i, 1, 0)\n",
    "    tn, fp, fn, tp = confusion_matrix(y_test_binary, y_pred_binary).ravel()\n",
    "    sensitivity[i] = tp / (tp + fn)\n",
    "    specificity[i] = tn / (tn + fp)\n",
    "\n",
    "# Print sensitivity and specificity for each class\n",
    "for i in range(len(data.target_names)):\n",
    "    print(\"Class\", data.target_names[i])\n",
    "    print(\"Sensitivity:\", sensitivity[i])\n",
    "    print(\"Specificity:\", specificity[i])\n",
    "    print()"
   ]
  },
  {
   "cell_type": "code",
   "execution_count": 19,
   "metadata": {},
   "outputs": [
    {
     "name": "stdout",
     "output_type": "stream",
     "text": [
      "Class: setosa\n",
      "F1 Score: 0.41379310344827586\n",
      "\n",
      "Class: versicolor\n",
      "F1 Score: 0.0\n",
      "\n",
      "Class: virginica\n",
      "F1 Score: 0.0\n",
      "\n"
     ]
    }
   ],
   "source": [
    "from sklearn.metrics import f1_score\n",
    "\n",
    "# Compute F1 score for each class\n",
    "f1_scores = {}\n",
    "for i in range(len(data.target_names)):\n",
    "    f1_scores[data.target_names[i]] = f1_score(y_test == i, y_pred_labels == i)\n",
    "\n",
    "# Print F1 score for each class\n",
    "for class_name, f1 in f1_scores.items():\n",
    "    print(\"Class:\", class_name)\n",
    "    print(\"F1 Score:\", f1)\n",
    "    print()\n"
   ]
  },
  {
   "cell_type": "code",
   "execution_count": 20,
   "metadata": {},
   "outputs": [],
   "source": [
    "# Compute sensitivity and specificity\n",
    "true_positive = np.diag(confusion)\n",
    "false_positive = np.sum(confusion, axis=0) - true_positive\n",
    "false_negative = np.sum(confusion, axis=1) - true_positive\n",
    "true_negative = np.sum(confusion) - (true_positive + false_positive + false_negative)\n",
    "sensitivity = true_positive / (true_positive + false_negative)\n",
    "specificity = true_negative / (true_negative + false_positive)"
   ]
  },
  {
   "cell_type": "code",
   "execution_count": 21,
   "metadata": {},
   "outputs": [
    {
     "name": "stderr",
     "output_type": "stream",
     "text": [
      "C:\\Users\\ugoch\\AppData\\Local\\Programs\\Python\\Python37\\lib\\site-packages\\ipykernel_launcher.py:2: RuntimeWarning: invalid value encountered in true_divide\n",
      "  \n"
     ]
    }
   ],
   "source": [
    "# Compute precision for each class\n",
    "precision_per_class = true_positive / (true_positive + false_positive)"
   ]
  },
  {
   "cell_type": "code",
   "execution_count": 22,
   "metadata": {},
   "outputs": [
    {
     "name": "stdout",
     "output_type": "stream",
     "text": [
      "Confusion Matrix:\n",
      "[[ 6  0  0]\n",
      " [10  0  0]\n",
      " [ 7  0  0]]\n",
      "Sensitivity: [1. 0. 0.]\n",
      "Specificity: [0. 1. 1.]\n",
      "F1 Score: <function f1_score at 0x000002D131C47F78>\n",
      "Precision per class: [0.26086957        nan        nan]\n"
     ]
    }
   ],
   "source": [
    "# Print evaluation metrics\n",
    "print(\"Confusion Matrix:\")\n",
    "print(confusion)\n",
    "print(\"Sensitivity:\", sensitivity)\n",
    "print(\"Specificity:\", specificity)\n",
    "print(\"F1 Score:\", f1_score)\n",
    "print(\"Precision per class:\", precision_per_class)"
   ]
  },
  {
   "cell_type": "code",
   "execution_count": null,
   "metadata": {},
   "outputs": [],
   "source": []
  },
  {
   "cell_type": "code",
   "execution_count": null,
   "metadata": {},
   "outputs": [],
   "source": []
  }
 ],
 "metadata": {
  "kernelspec": {
   "display_name": "Python 3",
   "language": "python",
   "name": "python3"
  },
  "language_info": {
   "codemirror_mode": {
    "name": "ipython",
    "version": 3
   },
   "file_extension": ".py",
   "mimetype": "text/x-python",
   "name": "python",
   "nbconvert_exporter": "python",
   "pygments_lexer": "ipython3",
   "version": "3.7.4"
  }
 },
 "nbformat": 4,
 "nbformat_minor": 4
}
