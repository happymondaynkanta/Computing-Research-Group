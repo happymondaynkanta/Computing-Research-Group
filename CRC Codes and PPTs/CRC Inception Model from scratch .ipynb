{
 "cells": [
  {
   "cell_type": "code",
   "execution_count": 1,
   "metadata": {},
   "outputs": [],
   "source": [
    "import os\n",
    "from keras.models import Model\n",
    "from keras.layers import Input, Conv2D, BatchNormalization, Activation, Concatenate\n",
    "from keras.layers import GlobalAveragePooling2D, Dense, MaxPooling2D\n",
    "from keras.preprocessing.image import ImageDataGenerator\n",
    "import matplotlib.pyplot as plt\n"
   ]
  },
  {
   "cell_type": "markdown",
   "metadata": {},
   "source": [
    "### input_shape is set to the desired input shape of the images.\n",
    "### dataset_dir is the directory path to the dataset.\n",
    "### batch_size determines the number of samples per gradient update during training."
   ]
  },
  {
   "cell_type": "code",
   "execution_count": 2,
   "metadata": {},
   "outputs": [],
   "source": [
    "input_shape = (224, 224, 3)\n",
    "dataset_dir = r'E:\\2023 OBU-CDUT\\2023 Semester 1\\crc_skin_data'\n",
    "batch_size = 4\n"
   ]
  },
  {
   "cell_type": "code",
   "execution_count": 3,
   "metadata": {},
   "outputs": [
    {
     "name": "stdout",
     "output_type": "stream",
     "text": [
      "Found 400 images belonging to 2 classes.\n",
      "Found 100 images belonging to 2 classes.\n",
      "Found 100 images belonging to 2 classes.\n"
     ]
    }
   ],
   "source": [
    "# Data Augmentation\n",
    "train_datagen = ImageDataGenerator(\n",
    "    rescale=1./255,\n",
    "    shear_range=0.2,\n",
    "    zoom_range=0.2,\n",
    "    horizontal_flip=True,\n",
    "    validation_split=0.2)  # 20% of the data will be used for validation\n",
    "\n",
    "test_datagen = ImageDataGenerator(rescale=1./255)\n",
    "\n",
    "train_generator = train_datagen.flow_from_directory(\n",
    "    os.path.join(dataset_dir, 'train'),\n",
    "    target_size=input_shape[:2],\n",
    "    batch_size=batch_size,\n",
    "    class_mode='binary',\n",
    "    subset='training')  # Use the training subset of the data\n",
    "\n",
    "validation_generator = train_datagen.flow_from_directory(\n",
    "    os.path.join(dataset_dir, 'train'),\n",
    "    target_size=input_shape[:2],\n",
    "    batch_size=batch_size,\n",
    "    class_mode='binary',\n",
    "    subset='validation')  # Use the validation subset of the data\n",
    "\n",
    "test_generator = test_datagen.flow_from_directory(\n",
    "    os.path.join(dataset_dir, 'test'),\n",
    "    target_size=input_shape[:2],\n",
    "    batch_size=batch_size,\n",
    "    class_mode='binary')\n",
    "\n",
    "# Rest of the code remains the same...\n"
   ]
  },
  {
   "cell_type": "markdown",
   "metadata": {},
   "source": [
    "### inception_block is a function that defines an Inception-like block with factorization.\n",
    "### It takes inputs and filters as input. filters is a list representing the number of output channels for each convolution operation in the block.\n",
    "### The block consists of multiple branches with different convolution operations, including 1x1, 3x3, and 5x5 convolutions.\n",
    "### The outputs of all branches are concatenated using Concatenate."
   ]
  },
  {
   "cell_type": "markdown",
   "metadata": {},
   "source": [
    "#### Conv2D is a convolutional layer in Keras that performs a 2D convolution operation.\n",
    "#### filters[0] refers to the number of filters (output channels) in this convolutional layer. It is the first element of the filters list.\n",
    "#### (1, 1) specifies the size of the convolutional kernel, which is a 1x1 kernel in this case.\n",
    "\n",
    "#### Concatenate is a layer in Keras that concatenates multiple tensors along a specified axis.\n",
    "#### axis=-1 specifies that the concatenation should happen along the last axis of the tensors.\n",
    "#### [branch1, branch2, branch3, branch4] is a list containing the tensors branch1, branch2, branch3, and branch4 that will be concatenated."
   ]
  },
  {
   "cell_type": "code",
   "execution_count": 4,
   "metadata": {},
   "outputs": [],
   "source": [
    "def inception_block(inputs, filters):\n",
    "    branch1 = Conv2D(filters[0], (1, 1), padding='same', activation='relu')(inputs)\n",
    "    branch1 = Conv2D(filters[1], (3, 3), padding='same', activation='relu')(branch1)\n",
    "\n",
    "    branch2 = Conv2D(filters[2], (1, 1), padding='same', activation='relu')(inputs)\n",
    "    branch2 = Conv2D(filters[3], (5, 5), padding='same', activation='relu')(branch2)\n",
    "\n",
    "    branch3 = MaxPooling2D((3, 3), strides=(1, 1), padding='same')(inputs)\n",
    "    branch3 = Conv2D(filters[4], (1, 1), padding='same', activation='relu')(branch3)\n",
    "\n",
    "    branch4 = Conv2D(filters[5], (1, 1), padding='same', activation='relu')(inputs)\n",
    "\n",
    "    output = Concatenate(axis=-1)([branch1, branch2, branch3, branch4])\n",
    "    return output\n"
   ]
  },
  {
   "cell_type": "markdown",
   "metadata": {},
   "source": [
    "### InceptionModel is a function that defines the Inception-like model using the previously defined inception_block.\n",
    "### It takes input_shape and num_classes as input.\n",
    "### The model starts with a convolution layer followed by two inception blocks.\n",
    "### After the inception blocks, global average pooling is applied, followed by a dense layer.\n",
    "### Finally, the output layer with the specified number of classes and activation function is added.\n",
    "### The model is returned as a Model instance."
   ]
  },
  {
   "cell_type": "code",
   "execution_count": 5,
   "metadata": {},
   "outputs": [],
   "source": [
    "def InceptionModel(input_shape, num_classes):\n",
    "    inputs = Input(shape=input_shape)\n",
    "    \n",
    "    # Initial Convolution layer\n",
    "    x = Conv2D(32, (3, 3), padding='same', activation='relu')(inputs)\n",
    "    \n",
    "    # Inception Blocks\n",
    "    x = inception_block(x, [16, 32, 8, 16, 8, 16])\n",
    "    x = inception_block(x, [32, 64, 16, 32, 16, 32])\n",
    "    x = MaxPooling2D((3, 3), strides=(1, 1), padding='same')(x)\n",
    "    x = inception_block(x, [64, 128, 32, 64, 32, 64])\n",
    "    x = inception_block(x, [128, 256, 64, 128, 64, 128])\n",
    "    x = GlobalAveragePooling2D()(x)\n",
    "    x = Dense(512, activation='relu')(x)\n",
    "\n",
    "    outputs = Dense(num_classes, activation='sigmoid')(x)\n",
    "\n",
    "    model = Model(inputs=inputs, outputs=outputs)\n",
    "    return model\n"
   ]
  },
  {
   "cell_type": "markdown",
   "metadata": {},
   "source": [
    "### num_classes is set to 1 since the problem is binary classification.\n",
    "### The model is created using InceptionModel with the specified input shape and number of classes.\n",
    "### The model is compiled with the binary cross-entropy loss function, the Adam optimizer, and accuracy as the evaluation metric."
   ]
  },
  {
   "cell_type": "code",
   "execution_count": 6,
   "metadata": {},
   "outputs": [],
   "source": [
    "num_classes = 1\n",
    "model = InceptionModel(input_shape, num_classes)\n",
    "\n",
    "model.compile(loss='binary_crossentropy', optimizer='adam', metrics=['accuracy'])\n"
   ]
  },
  {
   "cell_type": "code",
   "execution_count": 7,
   "metadata": {},
   "outputs": [
    {
     "name": "stdout",
     "output_type": "stream",
     "text": [
      "Epoch 1/2\n",
      "100/100 [==============================] - 62s 622ms/step - loss: 0.6974 - accuracy: 0.4900 - val_loss: 0.6930 - val_accuracy: 0.5000\n",
      "Epoch 2/2\n",
      "100/100 [==============================] - 60s 600ms/step - loss: 0.7445 - accuracy: 0.5150 - val_loss: 0.6916 - val_accuracy: 0.5100\n"
     ]
    }
   ],
   "source": [
    "history = model.fit(train_generator, epochs=2, validation_data=validation_generator, verbose=1)\n"
   ]
  },
  {
   "cell_type": "code",
   "execution_count": 8,
   "metadata": {},
   "outputs": [
    {
     "data": {
      "image/png": "[encoded data removed]",
      "text/plain": [
       "<Figure size 720x360 with 1 Axes>"
      ]
     },
     "metadata": {
      "needs_background": "light"
     },
     "output_type": "display_data"
    }
   ],
   "source": [
    "plt.figure(figsize=(10, 5))\n",
    "plt.plot(history.history['accuracy'])\n",
    "plt.plot(history.history['val_accuracy'])\n",
    "plt.title('Model Accuracy')\n",
    "plt.ylabel('Accuracy')\n",
    "plt.xlabel('Epoch')\n",
    "plt.legend(['Training', 'Validation'], loc='lower right')\n",
    "plt.show()\n"
   ]
  },
  {
   "cell_type": "code",
   "execution_count": 9,
   "metadata": {},
   "outputs": [
    {
     "data": {
      "image/png": "[encoded data removed]",
      "text/plain": [
       "<Figure size 720x360 with 1 Axes>"
      ]
     },
     "metadata": {
      "needs_background": "light"
     },
     "output_type": "display_data"
    }
   ],
   "source": [
    "plt.figure(figsize=(10, 5))\n",
    "plt.plot(history.history['loss'])\n",
    "plt.plot(history.history['val_loss'])\n",
    "plt.title('Model Loss')\n",
    "plt.ylabel('Loss')\n",
    "plt.xlabel('Epoch')\n",
    "plt.legend(['Training', 'Validation'], loc='upper right')\n",
    "plt.show()\n"
   ]
  },
  {
   "cell_type": "code",
   "execution_count": 10,
   "metadata": {},
   "outputs": [
    {
     "name": "stdout",
     "output_type": "stream",
     "text": [
      "25/25 [==============================] - 4s 172ms/step - loss: 0.6885 - accuracy: 0.5600\n",
      "Test Loss: 0.6885324120521545\n",
      "Test Accuracy: 0.5600000023841858\n"
     ]
    }
   ],
   "source": [
    "test_loss, test_accuracy = model.evaluate(test_generator)\n",
    "print('Test Loss:', test_loss)\n",
    "print('Test Accuracy:', test_accuracy)"
   ]
  },
  {
   "cell_type": "code",
   "execution_count": 11,
   "metadata": {},
   "outputs": [],
   "source": [
    "from keras import backend as K\n",
    "import gc\n",
    "\n",
    "K.clear_session()\n",
    "gc.collect()\n",
    "\n",
    "del model"
   ]
  },
  {
   "cell_type": "code",
   "execution_count": 12,
   "metadata": {},
   "outputs": [],
   "source": [
    "# you will need to install numba using \"pip install numba\"\n",
    "from numba import cuda\n",
    "\n",
    "cuda.select_device(0)\n",
    "cuda.close()"
   ]
  },
  {
   "cell_type": "code",
   "execution_count": null,
   "metadata": {},
   "outputs": [],
   "source": []
  }
 ],
 "metadata": {
  "kernelspec": {
   "display_name": "Python 3",
   "language": "python",
   "name": "python3"
  },
  "language_info": {
   "codemirror_mode": {
    "name": "ipython",
    "version": 3
   },
   "file_extension": ".py",
   "mimetype": "text/x-python",
   "name": "python",
   "nbconvert_exporter": "python",
   "pygments_lexer": "ipython3",
   "version": "3.7.4"
  }
 },
 "nbformat": 4,
 "nbformat_minor": 4
}
