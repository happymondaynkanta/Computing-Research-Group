{
 "cells": [
  {
   "cell_type": "code",
   "execution_count": 14,
   "metadata": {},
   "outputs": [],
   "source": [
    "import os\n",
    "from keras.models import Model\n",
    "from keras.layers import Input, Conv2D, BatchNormalization, Activation, Add, GlobalAveragePooling2D, Dense\n",
    "from keras.preprocessing.image import ImageDataGenerator\n",
    "import matplotlib.pyplot as plt"
   ]
  },
  {
   "cell_type": "code",
   "execution_count": 15,
   "metadata": {},
   "outputs": [],
   "source": [
    "# Set the input shape and number of classes\n",
    "input_shape = (224, 224, 3)\n",
    "num_classes = 1\n",
    "dataset_dir=r'E:\\2023 OBU-CDUT\\2023 Semester 1\\crc_skin_data'\n",
    "batch_size=4"
   ]
  },
  {
   "cell_type": "markdown",
   "metadata": {},
   "source": [
    "## The block of code sets up data augmentation for training images using the ImageDataGenerator class from the Keras library. Data augmentation is a technique commonly used in deep learning to artificially increase the size of the training dataset by applying various transformations to the existing images"
   ]
  },
  {
   "cell_type": "markdown",
   "metadata": {},
   "source": [
    "### train_datagen = ImageDataGenerator(: This line creates an instance of the ImageDataGenerator class and assigns it to the variable train_datagen. This object will be used to perform data augmentation on the training images.\n",
    "\n",
    "### rescale=1./255,: This parameter rescales the pixel values of the images by dividing them by 255. This normalization step brings the pixel values to the range of [0, 1], which is commonly done to ensure the input values are within a suitable range for training.\n",
    "\n",
    "### shear_range=0.2,: This parameter specifies the range for applying shear transformations to the images. Shear transformations slant the image in a certain direction, creating a distorted effect.\n",
    "\n",
    "### zoom_range=0.2,: This parameter specifies the range for applying zoom transformations to the images. Zoom transformations change the scale of the image, either making it larger or smaller.\n",
    "\n",
    "### horizontal_flip=True): This parameter enables horizontal flipping of the images. It randomly flips the images horizontally, creating a mirror image effect. This augmentation technique is useful when there is no specific horizontal orientation in the data.\n",
    "\n"
   ]
  },
  {
   "cell_type": "code",
   "execution_count": 16,
   "metadata": {},
   "outputs": [],
   "source": [
    "# Data augmentation\n",
    "train_datagen = ImageDataGenerator(\n",
    "    rescale=1./255,\n",
    "    shear_range=0.2,\n",
    "    zoom_range=0.2,\n",
    "    horizontal_flip=True)"
   ]
  },
  {
   "cell_type": "markdown",
   "metadata": {},
   "source": [
    "### test_datagen = ImageDataGenerator(rescale=1./255): This line creates another instance of the ImageDataGenerator class and assigns it to the variable test_datagen. This object is used for preprocessing the test/validation images, but it doesn't apply any data augmentation techniques except for the rescaling of pixel values."
   ]
  },
  {
   "cell_type": "code",
   "execution_count": 17,
   "metadata": {},
   "outputs": [],
   "source": [
    "\n",
    "# Test data should not be augmented\n",
    "test_datagen = ImageDataGenerator(rescale=1./255)"
   ]
  },
  {
   "cell_type": "markdown",
   "metadata": {},
   "source": [
    "## This code generates the training dataset using the flow_from_directory method of the train_datagen object. It prepares the data to be fed into the model during the training process."
   ]
  },
  {
   "cell_type": "markdown",
   "metadata": {},
   "source": [
    "### train_generator = train_datagen.flow_from_directory(: This line calls the flow_from_directory method of the train_datagen object to generate the training dataset iterator and assigns it to the variable train_generator. This iterator will generate batches of augmented images along with their corresponding labels.\n",
    "\n",
    "### os.path.join(dataset_dir, 'train'): This line uses the os.path.join function to construct the directory path for the training dataset. It combines the dataset_dir (the root directory where the dataset is located) with the 'train' subdirectory, which typically contains the training images.\n",
    "\n",
    "### target_size=input_shape[:2],: This parameter specifies the target size to which the images should be resized. It uses the input_shape variable, which represents the desired input shape of the model, and takes the first two elements of the shape (width and height). The images in the training dataset will be resized to this target size.\n",
    "\n",
    "### batch_size=batch_size,: This parameter specifies the number of samples in each batch of the training dataset. The batch_size variable represents the desired batch size for training.\n",
    "\n",
    "### class_mode='binary': This parameter specifies the type of labels to generate for the training dataset. In this case, 'binary' indicates that the labels are two classes represented '0 or 1' \n",
    "\n",
    "### ): This closing parenthesis ends the flow_from_directory method call."
   ]
  },
  {
   "cell_type": "code",
   "execution_count": 18,
   "metadata": {},
   "outputs": [
    {
     "name": "stdout",
     "output_type": "stream",
     "text": [
      "Found 500 images belonging to 2 classes.\n"
     ]
    }
   ],
   "source": [
    "\n",
    "# Generate the train dataset\n",
    "train_generator = train_datagen.flow_from_directory(\n",
    "    os.path.join(dataset_dir, 'train'),\n",
    "    target_size=input_shape[:2],\n",
    "    batch_size=batch_size,\n",
    "    class_mode='binary')"
   ]
  },
  {
   "cell_type": "markdown",
   "metadata": {},
   "source": [
    "### validation_generator = test_datagen.flow_from_directory(: This line calls the flow_from_directory method of the train_datagen object to generate the training dataset iterator and assigns it to the variable train_generator. This iterator will generate batches of augmented images along with their corresponding labels.\n",
    "\n",
    "### os.path.join(dataset_dir, 'train'): This line uses the os.path.join function to construct the directory path for the training dataset. It combines the dataset_dir (the root directory where the dataset is located) with the 'train' subdirectory, which typically contains the training images.\n",
    "\n",
    "### target_size=input_shape[:2],: This parameter specifies the target size to which the images should be resized. It uses the input_shape variable, which represents the desired input shape of the model, and takes the first two elements of the shape (width and height). The images in the training dataset will be resized to this target size.\n",
    "\n",
    "### batch_size=batch_size,: This parameter specifies the number of samples in each batch of the training dataset. The batch_size variable represents the desired batch size for training.\n",
    "\n",
    "### class_mode='binary': This parameter specifies the type of labels to generate for the training dataset. In this case, 'binary' indicates that the labels are two classes represented '0 or 1' \n",
    "\n",
    "### ): This closing parenthesis ends the flow_from_directory method call."
   ]
  },
  {
   "cell_type": "code",
   "execution_count": 19,
   "metadata": {},
   "outputs": [
    {
     "name": "stdout",
     "output_type": "stream",
     "text": [
      "Found 500 images belonging to 2 classes.\n"
     ]
    }
   ],
   "source": [
    "\n",
    "# Generate the validation dataset\n",
    "validation_generator = test_datagen.flow_from_directory(\n",
    "    os.path.join(dataset_dir, 'train'),\n",
    "    target_size=input_shape[:2],\n",
    "    batch_size=batch_size,\n",
    "    class_mode='binary')"
   ]
  },
  {
   "cell_type": "markdown",
   "metadata": {},
   "source": [
    "### test_generator = test_datagen.flow_from_directory(: This line calls the flow_from_directory method of the train_datagen object to generate the training dataset iterator and assigns it to the variable train_generator. This iterator will generate batches of augmented images along with their corresponding labels.\n",
    "\n",
    "### os.path.join(dataset_dir, 'train'): This line uses the os.path.join function to construct the directory path for the training dataset. It combines the dataset_dir (the root directory where the dataset is located) with the 'train' subdirectory, which typically contains the training images.\n",
    "\n",
    "### target_size=input_shape[:2],: This parameter specifies the target size to which the images should be resized. It uses the input_shape variable, which represents the desired input shape of the model, and takes the first two elements of the shape (width and height). The images in the training dataset will be resized to this target size.\n",
    "\n",
    "### batch_size=batch_size,: This parameter specifies the number of samples in each batch of the training dataset. The batch_size variable represents the desired batch size for training.\n",
    "\n",
    "### class_mode='binary': This parameter specifies the type of labels to generate for the training dataset. In this case, 'binary' indicates that the labels are two classes represented '0 or 1' \n",
    "\n",
    "### ): This closing parenthesis ends the flow_from_directory method call."
   ]
  },
  {
   "cell_type": "code",
   "execution_count": 20,
   "metadata": {},
   "outputs": [
    {
     "name": "stdout",
     "output_type": "stream",
     "text": [
      "Found 100 images belonging to 2 classes.\n"
     ]
    }
   ],
   "source": [
    "# Generate the test dataset\n",
    "test_generator = test_datagen.flow_from_directory(\n",
    "    os.path.join(dataset_dir, 'test'),\n",
    "    target_size=input_shape[:2],\n",
    "    batch_size=batch_size,\n",
    "    class_mode='binary')"
   ]
  },
  {
   "cell_type": "markdown",
   "metadata": {},
   "source": [
    "### def residual_block(inputs, num_filters):: This line defines a function named residual_block that takes two parameters: inputs (the input tensor) and num_filters (the number of filters in the convolutional layers).\n",
    "\n",
    "### x = Conv2D(num_filters, kernel_size=(3, 3), padding='same')(inputs): This line applies a 2D convolutional layer to the inputs tensor with num_filters filters, each with a kernel size of 3x3 and same padding. The result is stored in the x variable.\n",
    "\n",
    "### x = BatchNormalization()(x): This line applies batch normalization to the x tensor, which normalizes the activations and helps with training stability and speed.\n",
    "\n",
    "### x = Activation('relu')(x): This line applies the ReLU activation function to the x tensor, introducing non-linearity to the model.\n",
    "\n",
    "### x = Conv2D(num_filters, kernel_size=(3, 3), padding='same')(x): This line applies another 2D convolutional layer to the x tensor with num_filters filters and 3x3 kernel size, preserving the spatial dimensions with same padding.\n",
    "\n",
    "### x = BatchNormalization(a)(x): This line applies batch normalization to the x tensor, similar to line 4.\n",
    "\n",
    "### if inputs.shape[-1] != num_filters:: This line checks if the number of channels in the inputs tensor is not equal to num_filters. This condition is used to determine whether a skip connection is needed or not.\n",
    "\n",
    "### shortcut = Conv2D(num_filters, kernel_size=(1, 1), padding='same')(inputs): This line applies a 1x1 convolutional layer to the inputs tensor to match the number of filters (num_filters) of the x tensor. This operation is used when the skip connection is required.\n",
    "\n",
    "### shortcut = BatchNormalization()(shortcut): This line applies batch normalization to the shortcut tensor, similar to line 4.\n",
    "\n",
    "### shortcut = inputs: This line assigns the inputs tensor to the shortcut variable when the skip connection is not needed.\n",
    "\n",
    "### x = Add()([x, shortcut]): This line adds the x tensor and the shortcut tensor element-wise, implementing the skip connection.\n",
    "\n",
    "### x = Activation('relu')(x): This line applies the ReLU activation function to the resulting tensor x.\n",
    "\n",
    "### return x: This line returns the output tensor x from the residual_block function.\n",
    "\n"
   ]
  },
  {
   "cell_type": "code",
   "execution_count": 21,
   "metadata": {},
   "outputs": [],
   "source": [
    "# Define the residual block\n",
    "def residual_block(inputs, num_filters):\n",
    "    # Convolutional layers\n",
    "    x = Conv2D(num_filters, kernel_size=(3, 3), padding='same')(inputs)\n",
    "    x = BatchNormalization()(x)\n",
    "    x = Activation('relu')(x)\n",
    "    x = Conv2D(num_filters, kernel_size=(3, 3), padding='same')(x)\n",
    "    x = BatchNormalization()(x)\n",
    "    \n",
    "    # Skip connection\n",
    "    if inputs.shape[-1] != num_filters:\n",
    "        shortcut = Conv2D(num_filters, kernel_size=(1, 1), padding='same')(inputs)\n",
    "        shortcut = BatchNormalization()(shortcut)\n",
    "    else:\n",
    "        shortcut = inputs\n",
    "    \n",
    "    # Add skip connection\n",
    "    x = Add()([x, shortcut])\n",
    "    x = Activation('relu')(x)\n",
    "    return x"
   ]
  },
  {
   "cell_type": "markdown",
   "metadata": {},
   "source": [
    "### def ResNet(input_shape, num_classes):: This line defines a function named ResNet that takes two parameters: input_shape (the shape of the input tensor) and num_classes (the number of classes for classification).\n",
    "\n",
    "### inputs = Input(shape=input_shape): This line creates a Keras input tensor with the specified input_shape and assigns it to the inputs variable.\n",
    "\n",
    "### x = Conv2D(64, kernel_size=(7, 7), padding='same')(inputs): This line applies a 2D convolutional layer to the inputs tensor with 64 filters and a larger 7x7 kernel size, preserving spatial dimensions.\n",
    "\n",
    "### x = BatchNormalization()(x): This line applies batch normalization to the x tensor.\n",
    "\n",
    "### x = Activation('relu')(x): This line applies the ReLU activation function to the x tensor.\n",
    "\n",
    "### 34-39. x = residual_block(x, num_filters): These lines apply the residual_block function multiple times, passing the x tensor and the specified num_filters for each block. This builds the residual part of the ResNet model.\n",
    "\n",
    "### x = GlobalAveragePooling2D()(x): This line applies global average pooling to the x tensor, reducing the spatial dimensions to a vector.\n",
    "\n",
    "### x = Dense(512, activation='relu')(x): This line applies a fully connected layer to the x tensor with 512 units and applies the ReLU activation function.\n",
    "\n",
    "### outputs = Dense(num_classes, activation='softmax')(x): This line applies a fully connected layer to the x tensor with num_classes units (output classes) and applies the softmax activation function to obtain class probabilities.\n",
    "\n",
    "### model = Model(inputs=inputs, outputs=outputs): This line creates a Keras Model object by specifying the inputs tensor as the model's input and the outputs tensor as the model's output.\n",
    "\n",
    "### return model: This line returns the created model.\n",
    "\n",
    "### model = ResNet(input_shape, num_classes): This line creates an instance of the ResNet model by calling the ResNet function with the specified input_shape and num_classes arguments, and assigns it to the model variable."
   ]
  },
  {
   "cell_type": "code",
   "execution_count": 22,
   "metadata": {},
   "outputs": [],
   "source": [
    "from keras.layers import MaxPooling2D\n",
    "# Define the ResNet-like model\n",
    "def ResNet(input_shape, num_classes):\n",
    "    inputs = Input(shape=input_shape)\n",
    "    \n",
    "    # Initial convolutional layer\n",
    "    x = Conv2D(64, kernel_size=(7, 7), padding='valid')(inputs)\n",
    "    x = BatchNormalization()(x)\n",
    "    x = MaxPooling2D(3,3)(x)\n",
    "    x = Activation('relu')(x)\n",
    "    \n",
    "    # Residual blocks\n",
    "    x = residual_block(x, 64) # 2 conv layers\n",
    "    x = residual_block(x, 64) # 2 conv layers\n",
    "    \n",
    "    x = residual_block(x, 128) # 2 conv layers\n",
    "    x = residual_block(x, 128) # 2 conv layers\n",
    "    \n",
    "    x = residual_block(x, 256) # 2 conv layers\n",
    "    x = residual_block(x, 256) # 2 conv layers\n",
    "    \n",
    "    # Global average pooling and fully connected layer\n",
    "    x = GlobalAveragePooling2D()(x)\n",
    "    x = Dense(512, activation='relu')(x)\n",
    "    \n",
    "    # Output layer\n",
    "    outputs = Dense(num_classes, activation='sigmoid')(x)\n",
    "    \n",
    "    # Create the model\n",
    "    model = Model(inputs=inputs, outputs=outputs)\n",
    "    return model"
   ]
  },
  {
   "cell_type": "code",
   "execution_count": 23,
   "metadata": {},
   "outputs": [],
   "source": [
    "# Create the ResNet model\n",
    "model = ResNet(input_shape, num_classes)"
   ]
  },
  {
   "cell_type": "code",
   "execution_count": 24,
   "metadata": {},
   "outputs": [],
   "source": [
    "#from keras.optimizers import Adam\n",
    "#optimizer=Adam(lr=0.001)\n",
    "# Compile the model\n",
    "model.compile(loss='binary_crossentropy', optimizer='adam', metrics=['accuracy'])"
   ]
  },
  {
   "cell_type": "code",
   "execution_count": 25,
   "metadata": {},
   "outputs": [
    {
     "name": "stdout",
     "output_type": "stream",
     "text": [
      "Model: \"model_1\"\n",
      "__________________________________________________________________________________________________\n",
      "Layer (type)                    Output Shape         Param #     Connected to                     \n",
      "==================================================================================================\n",
      "input_2 (InputLayer)            [(None, 224, 224, 3) 0                                            \n",
      "__________________________________________________________________________________________________\n",
      "conv2d_15 (Conv2D)              (None, 218, 218, 64) 9472        input_2[0][0]                    \n",
      "__________________________________________________________________________________________________\n",
      "batch_normalization_15 (BatchNo (None, 218, 218, 64) 256         conv2d_15[0][0]                  \n",
      "__________________________________________________________________________________________________\n",
      "max_pooling2d_1 (MaxPooling2D)  (None, 72, 72, 64)   0           batch_normalization_15[0][0]     \n",
      "__________________________________________________________________________________________________\n",
      "activation_13 (Activation)      (None, 72, 72, 64)   0           max_pooling2d_1[0][0]            \n",
      "__________________________________________________________________________________________________\n",
      "conv2d_16 (Conv2D)              (None, 72, 72, 64)   36928       activation_13[0][0]              \n",
      "__________________________________________________________________________________________________\n",
      "batch_normalization_16 (BatchNo (None, 72, 72, 64)   256         conv2d_16[0][0]                  \n",
      "__________________________________________________________________________________________________\n",
      "activation_14 (Activation)      (None, 72, 72, 64)   0           batch_normalization_16[0][0]     \n",
      "__________________________________________________________________________________________________\n",
      "conv2d_17 (Conv2D)              (None, 72, 72, 64)   36928       activation_14[0][0]              \n",
      "__________________________________________________________________________________________________\n",
      "batch_normalization_17 (BatchNo (None, 72, 72, 64)   256         conv2d_17[0][0]                  \n",
      "__________________________________________________________________________________________________\n",
      "add_6 (Add)                     (None, 72, 72, 64)   0           batch_normalization_17[0][0]     \n",
      "                                                                 activation_13[0][0]              \n",
      "__________________________________________________________________________________________________\n",
      "activation_15 (Activation)      (None, 72, 72, 64)   0           add_6[0][0]                      \n",
      "__________________________________________________________________________________________________\n",
      "conv2d_18 (Conv2D)              (None, 72, 72, 64)   36928       activation_15[0][0]              \n",
      "__________________________________________________________________________________________________\n",
      "batch_normalization_18 (BatchNo (None, 72, 72, 64)   256         conv2d_18[0][0]                  \n",
      "__________________________________________________________________________________________________\n",
      "activation_16 (Activation)      (None, 72, 72, 64)   0           batch_normalization_18[0][0]     \n",
      "__________________________________________________________________________________________________\n",
      "conv2d_19 (Conv2D)              (None, 72, 72, 64)   36928       activation_16[0][0]              \n",
      "__________________________________________________________________________________________________\n",
      "batch_normalization_19 (BatchNo (None, 72, 72, 64)   256         conv2d_19[0][0]                  \n",
      "__________________________________________________________________________________________________\n",
      "add_7 (Add)                     (None, 72, 72, 64)   0           batch_normalization_19[0][0]     \n",
      "                                                                 activation_15[0][0]              \n",
      "__________________________________________________________________________________________________\n",
      "activation_17 (Activation)      (None, 72, 72, 64)   0           add_7[0][0]                      \n",
      "__________________________________________________________________________________________________\n",
      "conv2d_20 (Conv2D)              (None, 72, 72, 128)  73856       activation_17[0][0]              \n",
      "__________________________________________________________________________________________________\n",
      "batch_normalization_20 (BatchNo (None, 72, 72, 128)  512         conv2d_20[0][0]                  \n",
      "__________________________________________________________________________________________________\n",
      "activation_18 (Activation)      (None, 72, 72, 128)  0           batch_normalization_20[0][0]     \n",
      "__________________________________________________________________________________________________\n",
      "conv2d_21 (Conv2D)              (None, 72, 72, 128)  147584      activation_18[0][0]              \n",
      "__________________________________________________________________________________________________\n",
      "conv2d_22 (Conv2D)              (None, 72, 72, 128)  8320        activation_17[0][0]              \n",
      "__________________________________________________________________________________________________\n",
      "batch_normalization_21 (BatchNo (None, 72, 72, 128)  512         conv2d_21[0][0]                  \n",
      "__________________________________________________________________________________________________\n",
      "batch_normalization_22 (BatchNo (None, 72, 72, 128)  512         conv2d_22[0][0]                  \n",
      "__________________________________________________________________________________________________\n",
      "add_8 (Add)                     (None, 72, 72, 128)  0           batch_normalization_21[0][0]     \n",
      "                                                                 batch_normalization_22[0][0]     \n",
      "__________________________________________________________________________________________________\n",
      "activation_19 (Activation)      (None, 72, 72, 128)  0           add_8[0][0]                      \n",
      "__________________________________________________________________________________________________\n",
      "conv2d_23 (Conv2D)              (None, 72, 72, 128)  147584      activation_19[0][0]              \n",
      "__________________________________________________________________________________________________\n",
      "batch_normalization_23 (BatchNo (None, 72, 72, 128)  512         conv2d_23[0][0]                  \n",
      "__________________________________________________________________________________________________\n",
      "activation_20 (Activation)      (None, 72, 72, 128)  0           batch_normalization_23[0][0]     \n",
      "__________________________________________________________________________________________________\n",
      "conv2d_24 (Conv2D)              (None, 72, 72, 128)  147584      activation_20[0][0]              \n",
      "__________________________________________________________________________________________________\n",
      "batch_normalization_24 (BatchNo (None, 72, 72, 128)  512         conv2d_24[0][0]                  \n",
      "__________________________________________________________________________________________________\n",
      "add_9 (Add)                     (None, 72, 72, 128)  0           batch_normalization_24[0][0]     \n",
      "                                                                 activation_19[0][0]              \n",
      "__________________________________________________________________________________________________\n",
      "activation_21 (Activation)      (None, 72, 72, 128)  0           add_9[0][0]                      \n",
      "__________________________________________________________________________________________________\n",
      "conv2d_25 (Conv2D)              (None, 72, 72, 256)  295168      activation_21[0][0]              \n",
      "__________________________________________________________________________________________________\n",
      "batch_normalization_25 (BatchNo (None, 72, 72, 256)  1024        conv2d_25[0][0]                  \n",
      "__________________________________________________________________________________________________\n",
      "activation_22 (Activation)      (None, 72, 72, 256)  0           batch_normalization_25[0][0]     \n",
      "__________________________________________________________________________________________________\n",
      "conv2d_26 (Conv2D)              (None, 72, 72, 256)  590080      activation_22[0][0]              \n",
      "__________________________________________________________________________________________________\n",
      "conv2d_27 (Conv2D)              (None, 72, 72, 256)  33024       activation_21[0][0]              \n",
      "__________________________________________________________________________________________________\n",
      "batch_normalization_26 (BatchNo (None, 72, 72, 256)  1024        conv2d_26[0][0]                  \n",
      "__________________________________________________________________________________________________\n",
      "batch_normalization_27 (BatchNo (None, 72, 72, 256)  1024        conv2d_27[0][0]                  \n",
      "__________________________________________________________________________________________________\n",
      "add_10 (Add)                    (None, 72, 72, 256)  0           batch_normalization_26[0][0]     \n",
      "                                                                 batch_normalization_27[0][0]     \n",
      "__________________________________________________________________________________________________\n",
      "activation_23 (Activation)      (None, 72, 72, 256)  0           add_10[0][0]                     \n",
      "__________________________________________________________________________________________________\n",
      "conv2d_28 (Conv2D)              (None, 72, 72, 256)  590080      activation_23[0][0]              \n",
      "__________________________________________________________________________________________________\n",
      "batch_normalization_28 (BatchNo (None, 72, 72, 256)  1024        conv2d_28[0][0]                  \n",
      "__________________________________________________________________________________________________\n",
      "activation_24 (Activation)      (None, 72, 72, 256)  0           batch_normalization_28[0][0]     \n",
      "__________________________________________________________________________________________________\n",
      "conv2d_29 (Conv2D)              (None, 72, 72, 256)  590080      activation_24[0][0]              \n",
      "__________________________________________________________________________________________________\n",
      "batch_normalization_29 (BatchNo (None, 72, 72, 256)  1024        conv2d_29[0][0]                  \n",
      "__________________________________________________________________________________________________\n",
      "add_11 (Add)                    (None, 72, 72, 256)  0           batch_normalization_29[0][0]     \n",
      "                                                                 activation_23[0][0]              \n",
      "__________________________________________________________________________________________________\n",
      "activation_25 (Activation)      (None, 72, 72, 256)  0           add_11[0][0]                     \n",
      "__________________________________________________________________________________________________\n",
      "global_average_pooling2d_1 (Glo (None, 256)          0           activation_25[0][0]              \n",
      "__________________________________________________________________________________________________\n",
      "dense_2 (Dense)                 (None, 512)          131584      global_average_pooling2d_1[0][0] \n",
      "__________________________________________________________________________________________________\n",
      "dense_3 (Dense)                 (None, 1)            513         dense_2[0][0]                    \n",
      "==================================================================================================\n",
      "Total params: 2,921,601\n",
      "Trainable params: 2,917,121\n",
      "Non-trainable params: 4,480\n",
      "__________________________________________________________________________________________________\n"
     ]
    }
   ],
   "source": [
    "# Print the model summary\n",
    "model.summary()\n"
   ]
  },
  {
   "cell_type": "code",
   "execution_count": 26,
   "metadata": {},
   "outputs": [
    {
     "name": "stdout",
     "output_type": "stream",
     "text": [
      "125/125 [==============================] - 179s 1s/step - loss: 0.6876 - accuracy: 0.6680 - val_loss: 0.7613 - val_accuracy: 0.3300\n"
     ]
    }
   ],
   "source": [
    "# Train the model\n",
    "history=model.fit(train_generator,epochs=1,validation_data=validation_generator,verbose=1)"
   ]
  },
  {
   "cell_type": "code",
   "execution_count": 28,
   "metadata": {},
   "outputs": [
    {
     "data": {
      "image/png": "[encoded data removed]",
      "text/plain": [
       "<Figure size 720x360 with 1 Axes>"
      ]
     },
     "metadata": {
      "needs_background": "light"
     },
     "output_type": "display_data"
    },
    {
     "data": {
      "image/png": "[encoded data removed]",
      "text/plain": [
       "<Figure size 720x360 with 1 Axes>"
      ]
     },
     "metadata": {
      "needs_background": "light"
     },
     "output_type": "display_data"
    }
   ],
   "source": [
    "plt.figure(figsize=(10,5))\n",
    "plt.plot(history.history['accuracy'])\n",
    "plt.plot(history.history['val_accuracy'])\n",
    "plt.title('Model Accuracy')\n",
    "plt.ylabel('Accuracy')\n",
    "plt.xlabel('Epoch')\n",
    "plt.legend(['Training', 'Validation'], loc='lower right')\n",
    "plt.show()\n",
    "\n",
    "\n",
    "plt.figure(figsize=(10,5))\n",
    "plt.plot(history.history['loss'])\n",
    "plt.plot(history.history['val_loss'])\n",
    "plt.title('Model Loss')\n",
    "plt.ylabel('Loss')\n",
    "plt.xlabel('Epoch')\n",
    "plt.legend(['Training', 'Validation'], loc='upper right')\n",
    "plt.show()"
   ]
  },
  {
   "cell_type": "code",
   "execution_count": 29,
   "metadata": {},
   "outputs": [
    {
     "name": "stdout",
     "output_type": "stream",
     "text": [
      "25/25 [==============================] - 6s 245ms/step - loss: 0.7591 - accuracy: 0.3200\n",
      "Test loss: 0.75913405418396\n",
      "Test accuracy: 0.3199999928474426\n"
     ]
    }
   ],
   "source": [
    "# Evaluate the model on the testing dataset\n",
    "test_loss, test_acc = model.evaluate(test_generator)\n",
    "print('Test loss:', test_loss)\n",
    "print('Test accuracy:', test_acc)"
   ]
  },
  {
   "cell_type": "markdown",
   "metadata": {},
   "source": [
    "### from keras import backend as K: This line imports the backend module from the Keras library and assigns it the alias K. The backend module provides low-level operations and functions for working with tensors, which are multi-dimensional arrays used for deep learning computations.\n",
    "\n",
    "### import gc: This line imports the gc module, which stands for garbage collector. The garbage collector is responsible for freeing up memory by reclaiming objects that are no longer in use.\n",
    "\n",
    "### K.clear_session(): This line clears the Keras session. A session in Keras is a way to organize and execute a sequence of operations, such as building and training a neural network model. Clearing the session releases any resources associated with the current session, including tensors and variables.\n",
    "\n",
    "### gc.collect(): This line triggers the garbage collector to collect and free any unused memory. Calling gc.collect() helps to ensure that any unreferenced objects are properly cleaned up and their memory is reclaimed.\n",
    "\n",
    "### del model: This line deletes the variable model. It removes the reference to the model object and frees up the memory it was occupying. This step is useful when you want to release the resources associated with a model that is no longer needed.\n",
    "\n",
    "### Overall, this code is a common practice in deep learning to clear the session, perform garbage collection, and delete the model to manage memory usage and avoid potential memory leaks."
   ]
  },
  {
   "cell_type": "code",
   "execution_count": 30,
   "metadata": {},
   "outputs": [],
   "source": [
    "from keras import backend as K\n",
    "import gc\n",
    "\n",
    "K.clear_session()\n",
    "gc.collect()\n",
    "\n",
    "del model"
   ]
  },
  {
   "cell_type": "markdown",
   "metadata": {},
   "source": [
    "### from numba import cuda: This line imports the cuda module from the numba library. The cuda module provides an interface to interact with NVIDIA GPUs for parallel computing tasks. It allows you to utilize the power of the GPU to accelerate certain computations.\n",
    "\n",
    "### cuda.select_device(0): This line selects the CUDA device with index 0. CUDA is a parallel computing platform and API model created by NVIDIA that allows developers to perform general-purpose computing on GPUs. By calling select_device(0), the code specifies that the GPU with index 0 should be used for computation. If you have multiple GPUs, you can change the index to select a different GPU.\n",
    "\n",
    "### cuda.close(): This line closes the CUDA context. When you're done using the GPU resources, it's good practice to close the CUDA context to release any associated memory and resources. This ensures that the GPU resources are freed up and can be used by other applications or processes.\n",
    "\n"
   ]
  },
  {
   "cell_type": "code",
   "execution_count": 31,
   "metadata": {},
   "outputs": [],
   "source": [
    "# you will need to install numba using \"pip install numba\"\n",
    "from numba import cuda\n",
    "\n",
    "cuda.select_device(0)\n",
    "cuda.close()"
   ]
  },
  {
   "cell_type": "code",
   "execution_count": null,
   "metadata": {},
   "outputs": [],
   "source": []
  },
  {
   "cell_type": "code",
   "execution_count": null,
   "metadata": {},
   "outputs": [],
   "source": []
  },
  {
   "cell_type": "code",
   "execution_count": null,
   "metadata": {},
   "outputs": [],
   "source": []
  }
 ],
 "metadata": {
  "kernelspec": {
   "display_name": "Python 3",
   "language": "python",
   "name": "python3"
  },
  "language_info": {
   "codemirror_mode": {
    "name": "ipython",
    "version": 3
   },
   "file_extension": ".py",
   "mimetype": "text/x-python",
   "name": "python",
   "nbconvert_exporter": "python",
   "pygments_lexer": "ipython3",
   "version": "3.7.4"
  }
 },
 "nbformat": 4,
 "nbformat_minor": 4
}
